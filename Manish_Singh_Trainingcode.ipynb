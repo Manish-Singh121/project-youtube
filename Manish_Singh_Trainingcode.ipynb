{
  "nbformat": 4,
  "nbformat_minor": 0,
  "metadata": {
    "kernelspec": {
      "display_name": "Python 3",
      "language": "python",
      "name": "python3"
    },
    "language_info": {
      "codemirror_mode": {
        "name": "ipython",
        "version": 3
      },
      "file_extension": ".py",
      "mimetype": "text/x-python",
      "name": "python",
      "nbconvert_exporter": "python",
      "pygments_lexer": "ipython3",
      "version": "3.8.5"
    },
    "colab": {
      "name": "Manish_Singh_Trainingcode.ipynb",
      "provenance": [],
      "collapsed_sections": []
    }
  },
  "cells": [
    {
      "cell_type": "markdown",
      "metadata": {
        "id": "q7BwbHQhY3DL"
      },
      "source": [
        "##**Importing libraries and file**"
      ]
    },
    {
      "cell_type": "code",
      "metadata": {
        "id": "wocq-g1ID-Qd",
        "outputId": "38d11ce9-0914-49f8-88bb-757473218c0c",
        "colab": {
          "base_uri": "https://localhost:8080/",
          "height": 363
        }
      },
      "source": [
        "# Import the Libraries\n",
        "import numpy as np\n",
        "import pandas as pd\n",
        "import matplotlib.cm as cm\n",
        "import matplotlib.pyplot as plt\n",
        "import seaborn as sns\n",
        "import joblib\n",
        "\n",
        "dataset= pd.read_csv(\"train.csv\")\n",
        "\n",
        "dataset.head(10)\n"
      ],
      "execution_count": 1,
      "outputs": [
        {
          "output_type": "execute_result",
          "data": {
            "text/html": [
              "<div>\n",
              "<style scoped>\n",
              "    .dataframe tbody tr th:only-of-type {\n",
              "        vertical-align: middle;\n",
              "    }\n",
              "\n",
              "    .dataframe tbody tr th {\n",
              "        vertical-align: top;\n",
              "    }\n",
              "\n",
              "    .dataframe thead th {\n",
              "        text-align: right;\n",
              "    }\n",
              "</style>\n",
              "<table border=\"1\" class=\"dataframe\">\n",
              "  <thead>\n",
              "    <tr style=\"text-align: right;\">\n",
              "      <th></th>\n",
              "      <th>vidid</th>\n",
              "      <th>adview</th>\n",
              "      <th>views</th>\n",
              "      <th>likes</th>\n",
              "      <th>dislikes</th>\n",
              "      <th>comment</th>\n",
              "      <th>published</th>\n",
              "      <th>duration</th>\n",
              "      <th>category</th>\n",
              "    </tr>\n",
              "  </thead>\n",
              "  <tbody>\n",
              "    <tr>\n",
              "      <th>0</th>\n",
              "      <td>VID_18655</td>\n",
              "      <td>40</td>\n",
              "      <td>1031602</td>\n",
              "      <td>8523</td>\n",
              "      <td>363</td>\n",
              "      <td>1095</td>\n",
              "      <td>2016-09-14</td>\n",
              "      <td>PT7M37S</td>\n",
              "      <td>F</td>\n",
              "    </tr>\n",
              "    <tr>\n",
              "      <th>1</th>\n",
              "      <td>VID_14135</td>\n",
              "      <td>2</td>\n",
              "      <td>1707</td>\n",
              "      <td>56</td>\n",
              "      <td>2</td>\n",
              "      <td>6</td>\n",
              "      <td>2016-10-01</td>\n",
              "      <td>PT9M30S</td>\n",
              "      <td>D</td>\n",
              "    </tr>\n",
              "    <tr>\n",
              "      <th>2</th>\n",
              "      <td>VID_2187</td>\n",
              "      <td>1</td>\n",
              "      <td>2023</td>\n",
              "      <td>25</td>\n",
              "      <td>0</td>\n",
              "      <td>2</td>\n",
              "      <td>2016-07-02</td>\n",
              "      <td>PT2M16S</td>\n",
              "      <td>C</td>\n",
              "    </tr>\n",
              "    <tr>\n",
              "      <th>3</th>\n",
              "      <td>VID_23096</td>\n",
              "      <td>6</td>\n",
              "      <td>620860</td>\n",
              "      <td>777</td>\n",
              "      <td>161</td>\n",
              "      <td>153</td>\n",
              "      <td>2016-07-27</td>\n",
              "      <td>PT4M22S</td>\n",
              "      <td>H</td>\n",
              "    </tr>\n",
              "    <tr>\n",
              "      <th>4</th>\n",
              "      <td>VID_10175</td>\n",
              "      <td>1</td>\n",
              "      <td>666</td>\n",
              "      <td>1</td>\n",
              "      <td>0</td>\n",
              "      <td>0</td>\n",
              "      <td>2016-06-29</td>\n",
              "      <td>PT31S</td>\n",
              "      <td>D</td>\n",
              "    </tr>\n",
              "    <tr>\n",
              "      <th>5</th>\n",
              "      <td>VID_10756</td>\n",
              "      <td>4</td>\n",
              "      <td>78</td>\n",
              "      <td>0</td>\n",
              "      <td>0</td>\n",
              "      <td>0</td>\n",
              "      <td>2016-05-09</td>\n",
              "      <td>PT15S</td>\n",
              "      <td>D</td>\n",
              "    </tr>\n",
              "    <tr>\n",
              "      <th>6</th>\n",
              "      <td>VID_9782</td>\n",
              "      <td>40621</td>\n",
              "      <td>43118</td>\n",
              "      <td>15</td>\n",
              "      <td>1</td>\n",
              "      <td>0</td>\n",
              "      <td>2015-08-21</td>\n",
              "      <td>PT3M20S</td>\n",
              "      <td>D</td>\n",
              "    </tr>\n",
              "    <tr>\n",
              "      <th>7</th>\n",
              "      <td>VID_16452</td>\n",
              "      <td>1</td>\n",
              "      <td>14205</td>\n",
              "      <td>55</td>\n",
              "      <td>16</td>\n",
              "      <td>1</td>\n",
              "      <td>2016-08-01</td>\n",
              "      <td>PT58S</td>\n",
              "      <td>E</td>\n",
              "    </tr>\n",
              "    <tr>\n",
              "      <th>8</th>\n",
              "      <td>VID_18486</td>\n",
              "      <td>1</td>\n",
              "      <td>526015</td>\n",
              "      <td>3064</td>\n",
              "      <td>211</td>\n",
              "      <td>2582</td>\n",
              "      <td>2015-11-06</td>\n",
              "      <td>PT27M50S</td>\n",
              "      <td>F</td>\n",
              "    </tr>\n",
              "    <tr>\n",
              "      <th>9</th>\n",
              "      <td>VID_681</td>\n",
              "      <td>1</td>\n",
              "      <td>406992</td>\n",
              "      <td>3831</td>\n",
              "      <td>310</td>\n",
              "      <td>7839</td>\n",
              "      <td>2016-10-03</td>\n",
              "      <td>PT11M19S</td>\n",
              "      <td>B</td>\n",
              "    </tr>\n",
              "  </tbody>\n",
              "</table>\n",
              "</div>"
            ],
            "text/plain": [
              "       vidid  adview    views likes  ... comment   published  duration category\n",
              "0  VID_18655      40  1031602  8523  ...    1095  2016-09-14   PT7M37S        F\n",
              "1  VID_14135       2     1707    56  ...       6  2016-10-01   PT9M30S        D\n",
              "2   VID_2187       1     2023    25  ...       2  2016-07-02   PT2M16S        C\n",
              "3  VID_23096       6   620860   777  ...     153  2016-07-27   PT4M22S        H\n",
              "4  VID_10175       1      666     1  ...       0  2016-06-29     PT31S        D\n",
              "5  VID_10756       4       78     0  ...       0  2016-05-09     PT15S        D\n",
              "6   VID_9782   40621    43118    15  ...       0  2015-08-21   PT3M20S        D\n",
              "7  VID_16452       1    14205    55  ...       1  2016-08-01     PT58S        E\n",
              "8  VID_18486       1   526015  3064  ...    2582  2015-11-06  PT27M50S        F\n",
              "9    VID_681       1   406992  3831  ...    7839  2016-10-03  PT11M19S        B\n",
              "\n",
              "[10 rows x 9 columns]"
            ]
          },
          "metadata": {
            "tags": []
          },
          "execution_count": 1
        }
      ]
    },
    {
      "cell_type": "code",
      "metadata": {
        "id": "kw0I8AxcBsQS",
        "outputId": "3407fb75-785c-4846-ddd6-228f39cc388e",
        "colab": {
          "base_uri": "https://localhost:8080/",
          "height": 36
        }
      },
      "source": [
        "dataset.shape"
      ],
      "execution_count": 2,
      "outputs": [
        {
          "output_type": "execute_result",
          "data": {
            "text/plain": [
              "(14999, 9)"
            ]
          },
          "metadata": {
            "tags": []
          },
          "execution_count": 2
        }
      ]
    },
    {
      "cell_type": "code",
      "metadata": {
        "id": "S8TwD5brHgGz",
        "outputId": "e0a72f9c-d3a0-42d3-999a-52493afae691",
        "colab": {
          "base_uri": "https://localhost:8080/",
          "height": 317
        }
      },
      "source": [
        "# Checking the datatype of dataset, datatype of each attribute and null values.\n",
        "dataset.info()"
      ],
      "execution_count": 3,
      "outputs": [
        {
          "output_type": "stream",
          "text": [
            "<class 'pandas.core.frame.DataFrame'>\n",
            "RangeIndex: 14999 entries, 0 to 14998\n",
            "Data columns (total 9 columns):\n",
            " #   Column     Non-Null Count  Dtype \n",
            "---  ------     --------------  ----- \n",
            " 0   vidid      14999 non-null  object\n",
            " 1   adview     14999 non-null  int64 \n",
            " 2   views      14999 non-null  object\n",
            " 3   likes      14999 non-null  object\n",
            " 4   dislikes   14999 non-null  object\n",
            " 5   comment    14999 non-null  object\n",
            " 6   published  14999 non-null  object\n",
            " 7   duration   14999 non-null  object\n",
            " 8   category   14999 non-null  object\n",
            "dtypes: int64(1), object(8)\n",
            "memory usage: 1.0+ MB\n"
          ],
          "name": "stdout"
        }
      ]
    },
    {
      "cell_type": "markdown",
      "metadata": {
        "id": "U8FMWHRaZuiM"
      },
      "source": [
        "## **Visualising data**"
      ]
    },
    {
      "cell_type": "code",
      "metadata": {
        "id": "GNAsTBhWSuTN",
        "outputId": "79aa431e-d5f4-45ad-a4b9-621d391f9f59",
        "colab": {
          "base_uri": "https://localhost:8080/",
          "height": 297
        }
      },
      "source": [
        "# Visualization\n",
        "#pie chart of categories\n",
        "dataset.groupby('category').size().plot(kind='pie', autopct='%.1f',textprops={'fontsize': 15},label='category',)\n",
        "plt.tight_layout()"
      ],
      "execution_count": 4,
      "outputs": [
        {
          "output_type": "display_data",
          "data": {
            "image/png": "[encoded data removed]",
            "text/plain": [
              "<Figure size 432x288 with 1 Axes>"
            ]
          },
          "metadata": {
            "tags": []
          }
        }
      ]
    },
    {
      "cell_type": "code",
      "metadata": {
        "id": "OEhUjLZAD-RZ",
        "outputId": "b61f3435-02bb-4be5-b4e4-1b488b190543",
        "colab": {
          "base_uri": "https://localhost:8080/",
          "height": 281
        }
      },
      "source": [
        "#Adview graph showing outlinears data which we have removed later\n",
        "plt.plot(dataset[\"adview\"])\n",
        "plt.title('Adview count')\n",
        "plt.ylabel('adview')\n",
        "plt.show()"
      ],
      "execution_count": 5,
      "outputs": [
        {
          "output_type": "display_data",
          "data": {
            "image/png": "[encoded data removed]",
            "text/plain": [
              "<Figure size 432x288 with 1 Axes>"
            ]
          },
          "metadata": {
            "tags": [],
            "needs_background": "light"
          }
        }
      ]
    },
    {
      "cell_type": "markdown",
      "metadata": {
        "id": "jAaLDDiQZfps"
      },
      "source": [
        "## **Preprocessing of data**"
      ]
    },
    {
      "cell_type": "code",
      "metadata": {
        "id": "f2oWb6AvD-Rn"
      },
      "source": [
        "# Remove videos with adview greater than 2000000 as outlier\n",
        "dataset= dataset[dataset[\"adview\"]<2000000]"
      ],
      "execution_count": 6,
      "outputs": []
    },
    {
      "cell_type": "code",
      "metadata": {
        "id": "lLXy7LbZD-SE",
        "outputId": "c4cd6d0a-a15f-4217-e2d9-625c1bf4e726",
        "colab": {
          "base_uri": "https://localhost:8080/",
          "height": 206
        }
      },
      "source": [
        "# Removing character \"F\" present in data\n",
        "\n",
        "dataset=dataset[dataset.views!='F']\n",
        "dataset=dataset[dataset.likes!='F']\n",
        "dataset=dataset[dataset.dislikes!='F']\n",
        "dataset=dataset[dataset.comment!='F']\n",
        "\n",
        "dataset.head()"
      ],
      "execution_count": 7,
      "outputs": [
        {
          "output_type": "execute_result",
          "data": {
            "text/html": [
              "<div>\n",
              "<style scoped>\n",
              "    .dataframe tbody tr th:only-of-type {\n",
              "        vertical-align: middle;\n",
              "    }\n",
              "\n",
              "    .dataframe tbody tr th {\n",
              "        vertical-align: top;\n",
              "    }\n",
              "\n",
              "    .dataframe thead th {\n",
              "        text-align: right;\n",
              "    }\n",
              "</style>\n",
              "<table border=\"1\" class=\"dataframe\">\n",
              "  <thead>\n",
              "    <tr style=\"text-align: right;\">\n",
              "      <th></th>\n",
              "      <th>vidid</th>\n",
              "      <th>adview</th>\n",
              "      <th>views</th>\n",
              "      <th>likes</th>\n",
              "      <th>dislikes</th>\n",
              "      <th>comment</th>\n",
              "      <th>published</th>\n",
              "      <th>duration</th>\n",
              "      <th>category</th>\n",
              "    </tr>\n",
              "  </thead>\n",
              "  <tbody>\n",
              "    <tr>\n",
              "      <th>0</th>\n",
              "      <td>VID_18655</td>\n",
              "      <td>40</td>\n",
              "      <td>1031602</td>\n",
              "      <td>8523</td>\n",
              "      <td>363</td>\n",
              "      <td>1095</td>\n",
              "      <td>2016-09-14</td>\n",
              "      <td>PT7M37S</td>\n",
              "      <td>F</td>\n",
              "    </tr>\n",
              "    <tr>\n",
              "      <th>1</th>\n",
              "      <td>VID_14135</td>\n",
              "      <td>2</td>\n",
              "      <td>1707</td>\n",
              "      <td>56</td>\n",
              "      <td>2</td>\n",
              "      <td>6</td>\n",
              "      <td>2016-10-01</td>\n",
              "      <td>PT9M30S</td>\n",
              "      <td>D</td>\n",
              "    </tr>\n",
              "    <tr>\n",
              "      <th>2</th>\n",
              "      <td>VID_2187</td>\n",
              "      <td>1</td>\n",
              "      <td>2023</td>\n",
              "      <td>25</td>\n",
              "      <td>0</td>\n",
              "      <td>2</td>\n",
              "      <td>2016-07-02</td>\n",
              "      <td>PT2M16S</td>\n",
              "      <td>C</td>\n",
              "    </tr>\n",
              "    <tr>\n",
              "      <th>3</th>\n",
              "      <td>VID_23096</td>\n",
              "      <td>6</td>\n",
              "      <td>620860</td>\n",
              "      <td>777</td>\n",
              "      <td>161</td>\n",
              "      <td>153</td>\n",
              "      <td>2016-07-27</td>\n",
              "      <td>PT4M22S</td>\n",
              "      <td>H</td>\n",
              "    </tr>\n",
              "    <tr>\n",
              "      <th>4</th>\n",
              "      <td>VID_10175</td>\n",
              "      <td>1</td>\n",
              "      <td>666</td>\n",
              "      <td>1</td>\n",
              "      <td>0</td>\n",
              "      <td>0</td>\n",
              "      <td>2016-06-29</td>\n",
              "      <td>PT31S</td>\n",
              "      <td>D</td>\n",
              "    </tr>\n",
              "  </tbody>\n",
              "</table>\n",
              "</div>"
            ],
            "text/plain": [
              "       vidid  adview    views likes  ... comment   published duration category\n",
              "0  VID_18655      40  1031602  8523  ...    1095  2016-09-14  PT7M37S        F\n",
              "1  VID_14135       2     1707    56  ...       6  2016-10-01  PT9M30S        D\n",
              "2   VID_2187       1     2023    25  ...       2  2016-07-02  PT2M16S        C\n",
              "3  VID_23096       6   620860   777  ...     153  2016-07-27  PT4M22S        H\n",
              "4  VID_10175       1      666     1  ...       0  2016-06-29    PT31S        D\n",
              "\n",
              "[5 rows x 9 columns]"
            ]
          },
          "metadata": {
            "tags": []
          },
          "execution_count": 7
        }
      ]
    },
    {
      "cell_type": "code",
      "metadata": {
        "id": "TPl7CI8kD-SR",
        "outputId": "1dd18a79-5905-4bf9-cd04-8eb4cdc62fc2",
        "colab": {
          "base_uri": "https://localhost:8080/",
          "height": 206
        }
      },
      "source": [
        "# Assigning each category a number for Category feature\n",
        "\n",
        "category={'A': 1,'B':2,'C':3,'D':4,'E':5,'F':6,'G':7,'H':8}\n",
        "dataset[\"category\"]=dataset[\"category\"].map(category)\n",
        "\n",
        "dataset.head()"
      ],
      "execution_count": 8,
      "outputs": [
        {
          "output_type": "execute_result",
          "data": {
            "text/html": [
              "<div>\n",
              "<style scoped>\n",
              "    .dataframe tbody tr th:only-of-type {\n",
              "        vertical-align: middle;\n",
              "    }\n",
              "\n",
              "    .dataframe tbody tr th {\n",
              "        vertical-align: top;\n",
              "    }\n",
              "\n",
              "    .dataframe thead th {\n",
              "        text-align: right;\n",
              "    }\n",
              "</style>\n",
              "<table border=\"1\" class=\"dataframe\">\n",
              "  <thead>\n",
              "    <tr style=\"text-align: right;\">\n",
              "      <th></th>\n",
              "      <th>vidid</th>\n",
              "      <th>adview</th>\n",
              "      <th>views</th>\n",
              "      <th>likes</th>\n",
              "      <th>dislikes</th>\n",
              "      <th>comment</th>\n",
              "      <th>published</th>\n",
              "      <th>duration</th>\n",
              "      <th>category</th>\n",
              "    </tr>\n",
              "  </thead>\n",
              "  <tbody>\n",
              "    <tr>\n",
              "      <th>0</th>\n",
              "      <td>VID_18655</td>\n",
              "      <td>40</td>\n",
              "      <td>1031602</td>\n",
              "      <td>8523</td>\n",
              "      <td>363</td>\n",
              "      <td>1095</td>\n",
              "      <td>2016-09-14</td>\n",
              "      <td>PT7M37S</td>\n",
              "      <td>6</td>\n",
              "    </tr>\n",
              "    <tr>\n",
              "      <th>1</th>\n",
              "      <td>VID_14135</td>\n",
              "      <td>2</td>\n",
              "      <td>1707</td>\n",
              "      <td>56</td>\n",
              "      <td>2</td>\n",
              "      <td>6</td>\n",
              "      <td>2016-10-01</td>\n",
              "      <td>PT9M30S</td>\n",
              "      <td>4</td>\n",
              "    </tr>\n",
              "    <tr>\n",
              "      <th>2</th>\n",
              "      <td>VID_2187</td>\n",
              "      <td>1</td>\n",
              "      <td>2023</td>\n",
              "      <td>25</td>\n",
              "      <td>0</td>\n",
              "      <td>2</td>\n",
              "      <td>2016-07-02</td>\n",
              "      <td>PT2M16S</td>\n",
              "      <td>3</td>\n",
              "    </tr>\n",
              "    <tr>\n",
              "      <th>3</th>\n",
              "      <td>VID_23096</td>\n",
              "      <td>6</td>\n",
              "      <td>620860</td>\n",
              "      <td>777</td>\n",
              "      <td>161</td>\n",
              "      <td>153</td>\n",
              "      <td>2016-07-27</td>\n",
              "      <td>PT4M22S</td>\n",
              "      <td>8</td>\n",
              "    </tr>\n",
              "    <tr>\n",
              "      <th>4</th>\n",
              "      <td>VID_10175</td>\n",
              "      <td>1</td>\n",
              "      <td>666</td>\n",
              "      <td>1</td>\n",
              "      <td>0</td>\n",
              "      <td>0</td>\n",
              "      <td>2016-06-29</td>\n",
              "      <td>PT31S</td>\n",
              "      <td>4</td>\n",
              "    </tr>\n",
              "  </tbody>\n",
              "</table>\n",
              "</div>"
            ],
            "text/plain": [
              "       vidid  adview    views likes  ... comment   published duration category\n",
              "0  VID_18655      40  1031602  8523  ...    1095  2016-09-14  PT7M37S        6\n",
              "1  VID_14135       2     1707    56  ...       6  2016-10-01  PT9M30S        4\n",
              "2   VID_2187       1     2023    25  ...       2  2016-07-02  PT2M16S        3\n",
              "3  VID_23096       6   620860   777  ...     153  2016-07-27  PT4M22S        8\n",
              "4  VID_10175       1      666     1  ...       0  2016-06-29    PT31S        4\n",
              "\n",
              "[5 rows x 9 columns]"
            ]
          },
          "metadata": {
            "tags": []
          },
          "execution_count": 8
        }
      ]
    },
    {
      "cell_type": "code",
      "metadata": {
        "id": "iX7FMliJD-Sc"
      },
      "source": [
        "# Convert values to integers for views, likes, comments, dislikes and adview\n",
        "\n",
        "dataset[\"views\"] = pd.to_numeric(dataset[\"views\"])\n",
        "dataset[\"comment\"] = pd.to_numeric(dataset[\"comment\"])\n",
        "dataset[\"likes\"] = pd.to_numeric(dataset[\"likes\"])\n",
        "dataset[\"dislikes\"] = pd.to_numeric(dataset[\"dislikes\"])\n",
        "dataset[\"adview\"]=pd.to_numeric(dataset[\"adview\"])\n"
      ],
      "execution_count": 9,
      "outputs": []
    },
    {
      "cell_type": "code",
      "metadata": {
        "id": "4b2gt49ATWJM"
      },
      "source": [
        "column_vidid=dataset['vidid']"
      ],
      "execution_count": 10,
      "outputs": []
    },
    {
      "cell_type": "code",
      "metadata": {
        "id": "C6PLL8cyD-Sn",
        "outputId": "d6dc6e53-5356-4664-e37b-a4878441e149",
        "colab": {
          "base_uri": "https://localhost:8080/",
          "height": 206
        }
      },
      "source": [
        "# Endoding features like Category, Duration, vidid\n",
        "from sklearn.preprocessing import LabelEncoder\n",
        "dataset['duration']=LabelEncoder().fit_transform(dataset['duration'])\n",
        "dataset['vidid']=LabelEncoder().fit_transform(dataset['vidid'])\n",
        "dataset['published']=LabelEncoder().fit_transform(dataset['published'])\n",
        "\n",
        "\n",
        "dataset.head()"
      ],
      "execution_count": 11,
      "outputs": [
        {
          "output_type": "execute_result",
          "data": {
            "text/html": [
              "<div>\n",
              "<style scoped>\n",
              "    .dataframe tbody tr th:only-of-type {\n",
              "        vertical-align: middle;\n",
              "    }\n",
              "\n",
              "    .dataframe tbody tr th {\n",
              "        vertical-align: top;\n",
              "    }\n",
              "\n",
              "    .dataframe thead th {\n",
              "        text-align: right;\n",
              "    }\n",
              "</style>\n",
              "<table border=\"1\" class=\"dataframe\">\n",
              "  <thead>\n",
              "    <tr style=\"text-align: right;\">\n",
              "      <th></th>\n",
              "      <th>vidid</th>\n",
              "      <th>adview</th>\n",
              "      <th>views</th>\n",
              "      <th>likes</th>\n",
              "      <th>dislikes</th>\n",
              "      <th>comment</th>\n",
              "      <th>published</th>\n",
              "      <th>duration</th>\n",
              "      <th>category</th>\n",
              "    </tr>\n",
              "  </thead>\n",
              "  <tbody>\n",
              "    <tr>\n",
              "      <th>0</th>\n",
              "      <td>5912</td>\n",
              "      <td>40</td>\n",
              "      <td>1031602</td>\n",
              "      <td>8523</td>\n",
              "      <td>363</td>\n",
              "      <td>1095</td>\n",
              "      <td>2168</td>\n",
              "      <td>2925</td>\n",
              "      <td>6</td>\n",
              "    </tr>\n",
              "    <tr>\n",
              "      <th>1</th>\n",
              "      <td>2741</td>\n",
              "      <td>2</td>\n",
              "      <td>1707</td>\n",
              "      <td>56</td>\n",
              "      <td>2</td>\n",
              "      <td>6</td>\n",
              "      <td>2185</td>\n",
              "      <td>3040</td>\n",
              "      <td>4</td>\n",
              "    </tr>\n",
              "    <tr>\n",
              "      <th>2</th>\n",
              "      <td>8138</td>\n",
              "      <td>1</td>\n",
              "      <td>2023</td>\n",
              "      <td>25</td>\n",
              "      <td>0</td>\n",
              "      <td>2</td>\n",
              "      <td>2094</td>\n",
              "      <td>1863</td>\n",
              "      <td>3</td>\n",
              "    </tr>\n",
              "    <tr>\n",
              "      <th>3</th>\n",
              "      <td>9004</td>\n",
              "      <td>6</td>\n",
              "      <td>620860</td>\n",
              "      <td>777</td>\n",
              "      <td>161</td>\n",
              "      <td>153</td>\n",
              "      <td>2119</td>\n",
              "      <td>2546</td>\n",
              "      <td>8</td>\n",
              "    </tr>\n",
              "    <tr>\n",
              "      <th>4</th>\n",
              "      <td>122</td>\n",
              "      <td>1</td>\n",
              "      <td>666</td>\n",
              "      <td>1</td>\n",
              "      <td>0</td>\n",
              "      <td>0</td>\n",
              "      <td>2091</td>\n",
              "      <td>1963</td>\n",
              "      <td>4</td>\n",
              "    </tr>\n",
              "  </tbody>\n",
              "</table>\n",
              "</div>"
            ],
            "text/plain": [
              "   vidid  adview    views  likes  ...  comment  published  duration  category\n",
              "0   5912      40  1031602   8523  ...     1095       2168      2925         6\n",
              "1   2741       2     1707     56  ...        6       2185      3040         4\n",
              "2   8138       1     2023     25  ...        2       2094      1863         3\n",
              "3   9004       6   620860    777  ...      153       2119      2546         8\n",
              "4    122       1      666      1  ...        0       2091      1963         4\n",
              "\n",
              "[5 rows x 9 columns]"
            ]
          },
          "metadata": {
            "tags": []
          },
          "execution_count": 11
        }
      ]
    },
    {
      "cell_type": "code",
      "metadata": {
        "id": "XVoSxqKjD-S0",
        "outputId": "22e60b73-129c-4fed-9dd2-dc5fbc51d1cd",
        "colab": {
          "base_uri": "https://localhost:8080/",
          "height": 206
        }
      },
      "source": [
        "# Convert Time_in_sec for duration\n",
        "import datetime\n",
        "import time\n",
        "def checki(x):\n",
        "    y = x[2:]\n",
        "    h = ''\n",
        "    m = ''\n",
        "    s = ''\n",
        "    mm = ''\n",
        "    P = ['H','M','S']\n",
        "    for i in y:\n",
        "        if i not in P:\n",
        "            mm+=i\n",
        "        else:\n",
        "            if(i==\"H\"):\n",
        "                h = mm\n",
        "                mm = ''\n",
        "            elif(i == \"M\"):\n",
        "                m = mm\n",
        "                mm = ''\n",
        "            else:\n",
        "                s = mm\n",
        "                mm = ''\n",
        "    if(h==''):\n",
        "        h = '00'\n",
        "    if(m == ''):\n",
        "        m = '00'\n",
        "    if(s==''):\n",
        "        s='00'\n",
        "    bp = h+':'+m+':'+s\n",
        "    return bp\n",
        "train=pd.read_csv(\"train.csv\")\n",
        "mp = pd.read_csv(\"train.csv\")[\"duration\"]\n",
        "time = mp.apply(checki)\n",
        "\n",
        "def func_sec(time_string):\n",
        "    h, m, s = time_string.split(':')\n",
        "    return int(h) * 3600 + int(m) * 60 + int(s)\n",
        "\n",
        "dataset[\"duration\"]=time.apply(func_sec)\n",
        "\n",
        "dataset.head()"
      ],
      "execution_count": 12,
      "outputs": [
        {
          "output_type": "execute_result",
          "data": {
            "text/html": [
              "<div>\n",
              "<style scoped>\n",
              "    .dataframe tbody tr th:only-of-type {\n",
              "        vertical-align: middle;\n",
              "    }\n",
              "\n",
              "    .dataframe tbody tr th {\n",
              "        vertical-align: top;\n",
              "    }\n",
              "\n",
              "    .dataframe thead th {\n",
              "        text-align: right;\n",
              "    }\n",
              "</style>\n",
              "<table border=\"1\" class=\"dataframe\">\n",
              "  <thead>\n",
              "    <tr style=\"text-align: right;\">\n",
              "      <th></th>\n",
              "      <th>vidid</th>\n",
              "      <th>adview</th>\n",
              "      <th>views</th>\n",
              "      <th>likes</th>\n",
              "      <th>dislikes</th>\n",
              "      <th>comment</th>\n",
              "      <th>published</th>\n",
              "      <th>duration</th>\n",
              "      <th>category</th>\n",
              "    </tr>\n",
              "  </thead>\n",
              "  <tbody>\n",
              "    <tr>\n",
              "      <th>0</th>\n",
              "      <td>5912</td>\n",
              "      <td>40</td>\n",
              "      <td>1031602</td>\n",
              "      <td>8523</td>\n",
              "      <td>363</td>\n",
              "      <td>1095</td>\n",
              "      <td>2168</td>\n",
              "      <td>457</td>\n",
              "      <td>6</td>\n",
              "    </tr>\n",
              "    <tr>\n",
              "      <th>1</th>\n",
              "      <td>2741</td>\n",
              "      <td>2</td>\n",
              "      <td>1707</td>\n",
              "      <td>56</td>\n",
              "      <td>2</td>\n",
              "      <td>6</td>\n",
              "      <td>2185</td>\n",
              "      <td>570</td>\n",
              "      <td>4</td>\n",
              "    </tr>\n",
              "    <tr>\n",
              "      <th>2</th>\n",
              "      <td>8138</td>\n",
              "      <td>1</td>\n",
              "      <td>2023</td>\n",
              "      <td>25</td>\n",
              "      <td>0</td>\n",
              "      <td>2</td>\n",
              "      <td>2094</td>\n",
              "      <td>136</td>\n",
              "      <td>3</td>\n",
              "    </tr>\n",
              "    <tr>\n",
              "      <th>3</th>\n",
              "      <td>9004</td>\n",
              "      <td>6</td>\n",
              "      <td>620860</td>\n",
              "      <td>777</td>\n",
              "      <td>161</td>\n",
              "      <td>153</td>\n",
              "      <td>2119</td>\n",
              "      <td>262</td>\n",
              "      <td>8</td>\n",
              "    </tr>\n",
              "    <tr>\n",
              "      <th>4</th>\n",
              "      <td>122</td>\n",
              "      <td>1</td>\n",
              "      <td>666</td>\n",
              "      <td>1</td>\n",
              "      <td>0</td>\n",
              "      <td>0</td>\n",
              "      <td>2091</td>\n",
              "      <td>31</td>\n",
              "      <td>4</td>\n",
              "    </tr>\n",
              "  </tbody>\n",
              "</table>\n",
              "</div>"
            ],
            "text/plain": [
              "   vidid  adview    views  likes  ...  comment  published  duration  category\n",
              "0   5912      40  1031602   8523  ...     1095       2168       457         6\n",
              "1   2741       2     1707     56  ...        6       2185       570         4\n",
              "2   8138       1     2023     25  ...        2       2094       136         3\n",
              "3   9004       6   620860    777  ...      153       2119       262         8\n",
              "4    122       1      666      1  ...        0       2091        31         4\n",
              "\n",
              "[5 rows x 9 columns]"
            ]
          },
          "metadata": {
            "tags": []
          },
          "execution_count": 12
        }
      ]
    },
    {
      "cell_type": "markdown",
      "metadata": {
        "id": "pN_P-d2QZ3v5"
      },
      "source": [
        "# **Checking correaltion using heatmap**"
      ]
    },
    {
      "cell_type": "code",
      "metadata": {
        "id": "7u0MsTliTVLj",
        "outputId": "31a273d3-b9ca-4c21-fdd0-248905490c32",
        "colab": {
          "base_uri": "https://localhost:8080/",
          "height": 487
        }
      },
      "source": [
        "#Heatmap with seaborn\n",
        "\n",
        "f, ax = plt.subplots(figsize=(10, 8))\n",
        "corr = dataset.corr()\n",
        "sns.heatmap(corr, mask=np.zeros_like(corr, dtype=np.bool), cmap='plasma',square=True, ax=ax,annot=True)\n",
        "plt.show()"
      ],
      "execution_count": 13,
      "outputs": [
        {
          "output_type": "display_data",
          "data": {
            "image/png": "[encoded data removed]",
            "text/plain": [
              "<Figure size 720x576 with 2 Axes>"
            ]
          },
          "metadata": {
            "tags": [],
            "needs_background": "light"
          }
        }
      ]
    },
    {
      "cell_type": "markdown",
      "metadata": {
        "id": "2M_HuZZUaE6z"
      },
      "source": [
        "# **Spliting and Normalizing data**"
      ]
    },
    {
      "cell_type": "code",
      "metadata": {
        "id": "Kep2gFjvTtQc",
        "outputId": "bb6cb4fc-3161-4b18-de94-5effab4873b1",
        "colab": {
          "base_uri": "https://localhost:8080/",
          "height": 300
        }
      },
      "source": [
        "#now we describe the dataset for knowing to normalize \n",
        "dataset.describe()"
      ],
      "execution_count": 14,
      "outputs": [
        {
          "output_type": "execute_result",
          "data": {
            "text/html": [
              "<div>\n",
              "<style scoped>\n",
              "    .dataframe tbody tr th:only-of-type {\n",
              "        vertical-align: middle;\n",
              "    }\n",
              "\n",
              "    .dataframe tbody tr th {\n",
              "        vertical-align: top;\n",
              "    }\n",
              "\n",
              "    .dataframe thead th {\n",
              "        text-align: right;\n",
              "    }\n",
              "</style>\n",
              "<table border=\"1\" class=\"dataframe\">\n",
              "  <thead>\n",
              "    <tr style=\"text-align: right;\">\n",
              "      <th></th>\n",
              "      <th>vidid</th>\n",
              "      <th>adview</th>\n",
              "      <th>views</th>\n",
              "      <th>likes</th>\n",
              "      <th>dislikes</th>\n",
              "      <th>comment</th>\n",
              "      <th>published</th>\n",
              "      <th>duration</th>\n",
              "      <th>category</th>\n",
              "    </tr>\n",
              "  </thead>\n",
              "  <tbody>\n",
              "    <tr>\n",
              "      <th>count</th>\n",
              "      <td>14636.000000</td>\n",
              "      <td>1.463600e+04</td>\n",
              "      <td>1.463600e+04</td>\n",
              "      <td>14636.000000</td>\n",
              "      <td>14636.000000</td>\n",
              "      <td>14636.000000</td>\n",
              "      <td>14636.000000</td>\n",
              "      <td>14636.000000</td>\n",
              "      <td>14636.000000</td>\n",
              "    </tr>\n",
              "    <tr>\n",
              "      <th>mean</th>\n",
              "      <td>7317.500000</td>\n",
              "      <td>1.695191e+03</td>\n",
              "      <td>7.107934e+05</td>\n",
              "      <td>2784.093946</td>\n",
              "      <td>254.150724</td>\n",
              "      <td>409.035597</td>\n",
              "      <td>1547.316617</td>\n",
              "      <td>1040.232441</td>\n",
              "      <td>4.607065</td>\n",
              "    </tr>\n",
              "    <tr>\n",
              "      <th>std</th>\n",
              "      <td>4225.193605</td>\n",
              "      <td>2.788993e+04</td>\n",
              "      <td>2.731062e+06</td>\n",
              "      <td>8936.295816</td>\n",
              "      <td>1029.257991</td>\n",
              "      <td>1511.180179</td>\n",
              "      <td>582.891902</td>\n",
              "      <td>2316.888900</td>\n",
              "      <td>1.576242</td>\n",
              "    </tr>\n",
              "    <tr>\n",
              "      <th>min</th>\n",
              "      <td>0.000000</td>\n",
              "      <td>1.000000e+00</td>\n",
              "      <td>4.900000e+01</td>\n",
              "      <td>0.000000</td>\n",
              "      <td>0.000000</td>\n",
              "      <td>0.000000</td>\n",
              "      <td>0.000000</td>\n",
              "      <td>0.000000</td>\n",
              "      <td>1.000000</td>\n",
              "    </tr>\n",
              "    <tr>\n",
              "      <th>25%</th>\n",
              "      <td>3658.750000</td>\n",
              "      <td>1.000000e+00</td>\n",
              "      <td>3.151425e+04</td>\n",
              "      <td>88.000000</td>\n",
              "      <td>7.000000</td>\n",
              "      <td>7.000000</td>\n",
              "      <td>1135.000000</td>\n",
              "      <td>187.000000</td>\n",
              "      <td>4.000000</td>\n",
              "    </tr>\n",
              "    <tr>\n",
              "      <th>50%</th>\n",
              "      <td>7317.500000</td>\n",
              "      <td>2.000000e+00</td>\n",
              "      <td>1.586610e+05</td>\n",
              "      <td>450.000000</td>\n",
              "      <td>38.000000</td>\n",
              "      <td>46.000000</td>\n",
              "      <td>1699.500000</td>\n",
              "      <td>325.000000</td>\n",
              "      <td>4.000000</td>\n",
              "    </tr>\n",
              "    <tr>\n",
              "      <th>75%</th>\n",
              "      <td>10976.250000</td>\n",
              "      <td>6.000000e+00</td>\n",
              "      <td>5.829575e+05</td>\n",
              "      <td>1861.500000</td>\n",
              "      <td>166.250000</td>\n",
              "      <td>224.000000</td>\n",
              "      <td>2064.000000</td>\n",
              "      <td>723.000000</td>\n",
              "      <td>6.000000</td>\n",
              "    </tr>\n",
              "    <tr>\n",
              "      <th>max</th>\n",
              "      <td>14635.000000</td>\n",
              "      <td>1.583846e+06</td>\n",
              "      <td>1.380479e+08</td>\n",
              "      <td>283824.000000</td>\n",
              "      <td>49449.000000</td>\n",
              "      <td>75045.000000</td>\n",
              "      <td>2383.000000</td>\n",
              "      <td>42317.000000</td>\n",
              "      <td>8.000000</td>\n",
              "    </tr>\n",
              "  </tbody>\n",
              "</table>\n",
              "</div>"
            ],
            "text/plain": [
              "              vidid        adview  ...      duration      category\n",
              "count  14636.000000  1.463600e+04  ...  14636.000000  14636.000000\n",
              "mean    7317.500000  1.695191e+03  ...   1040.232441      4.607065\n",
              "std     4225.193605  2.788993e+04  ...   2316.888900      1.576242\n",
              "min        0.000000  1.000000e+00  ...      0.000000      1.000000\n",
              "25%     3658.750000  1.000000e+00  ...    187.000000      4.000000\n",
              "50%     7317.500000  2.000000e+00  ...    325.000000      4.000000\n",
              "75%    10976.250000  6.000000e+00  ...    723.000000      6.000000\n",
              "max    14635.000000  1.583846e+06  ...  42317.000000      8.000000\n",
              "\n",
              "[8 rows x 9 columns]"
            ]
          },
          "metadata": {
            "tags": []
          },
          "execution_count": 14
        }
      ]
    },
    {
      "cell_type": "code",
      "metadata": {
        "id": "joxaYMlBD-TC",
        "outputId": "06afe371-cfde-474d-880d-06c1e41103e4",
        "colab": {
          "base_uri": "https://localhost:8080/",
          "height": 206
        }
      },
      "source": [
        "#Dropping column\n",
        "Y_train = pd.DataFrame(data = dataset.iloc[:, 1].values, columns = ['target'])\n",
        "dataset=dataset.drop([\"adview\"],axis=1)\n",
        "dataset=dataset.drop([\"vidid\"],axis=1)\n",
        "dataset.head()"
      ],
      "execution_count": 15,
      "outputs": [
        {
          "output_type": "execute_result",
          "data": {
            "text/html": [
              "<div>\n",
              "<style scoped>\n",
              "    .dataframe tbody tr th:only-of-type {\n",
              "        vertical-align: middle;\n",
              "    }\n",
              "\n",
              "    .dataframe tbody tr th {\n",
              "        vertical-align: top;\n",
              "    }\n",
              "\n",
              "    .dataframe thead th {\n",
              "        text-align: right;\n",
              "    }\n",
              "</style>\n",
              "<table border=\"1\" class=\"dataframe\">\n",
              "  <thead>\n",
              "    <tr style=\"text-align: right;\">\n",
              "      <th></th>\n",
              "      <th>views</th>\n",
              "      <th>likes</th>\n",
              "      <th>dislikes</th>\n",
              "      <th>comment</th>\n",
              "      <th>published</th>\n",
              "      <th>duration</th>\n",
              "      <th>category</th>\n",
              "    </tr>\n",
              "  </thead>\n",
              "  <tbody>\n",
              "    <tr>\n",
              "      <th>0</th>\n",
              "      <td>1031602</td>\n",
              "      <td>8523</td>\n",
              "      <td>363</td>\n",
              "      <td>1095</td>\n",
              "      <td>2168</td>\n",
              "      <td>457</td>\n",
              "      <td>6</td>\n",
              "    </tr>\n",
              "    <tr>\n",
              "      <th>1</th>\n",
              "      <td>1707</td>\n",
              "      <td>56</td>\n",
              "      <td>2</td>\n",
              "      <td>6</td>\n",
              "      <td>2185</td>\n",
              "      <td>570</td>\n",
              "      <td>4</td>\n",
              "    </tr>\n",
              "    <tr>\n",
              "      <th>2</th>\n",
              "      <td>2023</td>\n",
              "      <td>25</td>\n",
              "      <td>0</td>\n",
              "      <td>2</td>\n",
              "      <td>2094</td>\n",
              "      <td>136</td>\n",
              "      <td>3</td>\n",
              "    </tr>\n",
              "    <tr>\n",
              "      <th>3</th>\n",
              "      <td>620860</td>\n",
              "      <td>777</td>\n",
              "      <td>161</td>\n",
              "      <td>153</td>\n",
              "      <td>2119</td>\n",
              "      <td>262</td>\n",
              "      <td>8</td>\n",
              "    </tr>\n",
              "    <tr>\n",
              "      <th>4</th>\n",
              "      <td>666</td>\n",
              "      <td>1</td>\n",
              "      <td>0</td>\n",
              "      <td>0</td>\n",
              "      <td>2091</td>\n",
              "      <td>31</td>\n",
              "      <td>4</td>\n",
              "    </tr>\n",
              "  </tbody>\n",
              "</table>\n",
              "</div>"
            ],
            "text/plain": [
              "     views  likes  dislikes  comment  published  duration  category\n",
              "0  1031602   8523       363     1095       2168       457         6\n",
              "1     1707     56         2        6       2185       570         4\n",
              "2     2023     25         0        2       2094       136         3\n",
              "3   620860    777       161      153       2119       262         8\n",
              "4      666      1         0        0       2091        31         4"
            ]
          },
          "metadata": {
            "tags": []
          },
          "execution_count": 15
        }
      ]
    },
    {
      "cell_type": "code",
      "metadata": {
        "id": "Ebnp1-BUD-TO",
        "outputId": "ebcba74a-6bb0-43ec-edd5-5fe519777b74",
        "colab": {
          "base_uri": "https://localhost:8080/",
          "height": 36
        }
      },
      "source": [
        "#Splitting data in 80-20 ratio for training and tesing \n",
        "from sklearn.model_selection import train_test_split\n",
        "X_train, X_test, y_train, y_test = train_test_split(dataset, Y_train, test_size=0.2, random_state=42)\n",
        "X_train.shape"
      ],
      "execution_count": 16,
      "outputs": [
        {
          "output_type": "execute_result",
          "data": {
            "text/plain": [
              "(11708, 7)"
            ]
          },
          "metadata": {
            "tags": []
          },
          "execution_count": 16
        }
      ]
    },
    {
      "cell_type": "code",
      "metadata": {
        "id": "uNNNPQOhD-Tb",
        "outputId": "1884356f-df4b-4ca2-c2a3-297d380c5b83",
        "colab": {
          "base_uri": "https://localhost:8080/",
          "height": 36
        }
      },
      "source": [
        "# Normalise Data using min max scalar\n",
        "from sklearn.preprocessing import MinMaxScaler\n",
        "scaler = MinMaxScaler()\n",
        "X_train=scaler.fit_transform(X_train)\n",
        "X_test=scaler.fit_transform(X_test)\n",
        "X_train.mean()"
      ],
      "execution_count": 17,
      "outputs": [
        {
          "output_type": "execute_result",
          "data": {
            "text/plain": [
              "0.1739096800320488"
            ]
          },
          "metadata": {
            "tags": []
          },
          "execution_count": 17
        }
      ]
    },
    {
      "cell_type": "markdown",
      "metadata": {
        "id": "hYUYqkOjX4aX"
      },
      "source": [
        "# **Training of and testing dataset using different models**"
      ]
    },
    {
      "cell_type": "code",
      "metadata": {
        "id": "peI3N1j8D-Tm"
      },
      "source": [
        "# Evaluation Metrics\n",
        "from sklearn import metrics\n",
        "def print_error(X_test, y_test, model_name):\n",
        "    prediction = model_name.predict(X_test) #predict using model\n",
        "    #error list\n",
        "    print('Mean Absolute Error:', metrics.mean_absolute_error(y_test, prediction))\n",
        "    print('Mean Squared Error:', metrics.mean_squared_error(y_test, prediction))\n",
        "    print('Root Mean Squared Error:', np.sqrt(metrics.mean_squared_error(y_test, prediction)))"
      ],
      "execution_count": 18,
      "outputs": []
    },
    {
      "cell_type": "code",
      "metadata": {
        "id": "r-KJyjGaD-Tx",
        "outputId": "5e393ec5-1333-476e-944c-0c3753b3fd15",
        "colab": {
          "base_uri": "https://localhost:8080/",
          "height": 73
        }
      },
      "source": [
        "# linear Regression\n",
        "\n",
        "from sklearn import linear_model\n",
        "linear_regression = linear_model.LinearRegression() #blank model\n",
        "linear_regression.fit(X_train, y_train)  #added data in model\n",
        "\n",
        "print_error(X_test,y_test, linear_regression) #calling predict and error function"
      ],
      "execution_count": 19,
      "outputs": [
        {
          "output_type": "stream",
          "text": [
            "Mean Absolute Error: 3707.378005824532\n",
            "Mean Squared Error: 835663131.1210337\n",
            "Root Mean Squared Error: 28907.83857573986\n"
          ],
          "name": "stdout"
        }
      ]
    },
    {
      "cell_type": "code",
      "metadata": {
        "id": "EQ0kxFCSD-T7",
        "outputId": "2c95d68f-20e0-4981-b538-ccc830965145",
        "colab": {
          "base_uri": "https://localhost:8080/",
          "height": 131
        }
      },
      "source": [
        "# Support Vector Regression\n",
        "\n",
        "from sklearn.svm import SVR\n",
        "supportvector_regressor = SVR()\n",
        "supportvector_regressor.fit(X_train,y_train)\n",
        "\n",
        "print_error(X_test,y_test, linear_regression)"
      ],
      "execution_count": 20,
      "outputs": [
        {
          "output_type": "stream",
          "text": [
            "/usr/local/lib/python3.6/dist-packages/sklearn/utils/validation.py:760: DataConversionWarning: A column-vector y was passed when a 1d array was expected. Please change the shape of y to (n_samples, ), for example using ravel().\n",
            "  y = column_or_1d(y, warn=True)\n"
          ],
          "name": "stderr"
        },
        {
          "output_type": "stream",
          "text": [
            "Mean Absolute Error: 3707.378005824532\n",
            "Mean Squared Error: 835663131.1210337\n",
            "Root Mean Squared Error: 28907.83857573986\n"
          ],
          "name": "stdout"
        }
      ]
    },
    {
      "cell_type": "code",
      "metadata": {
        "id": "OA951ZYGD-UE",
        "outputId": "a0326225-dbc2-4126-aeb8-7f3e26ce7758",
        "colab": {
          "base_uri": "https://localhost:8080/",
          "height": 73
        }
      },
      "source": [
        "# Decision Tree Regression\n",
        "\n",
        "from sklearn.tree import DecisionTreeRegressor\n",
        "decision_tree = DecisionTreeRegressor()\n",
        "decision_tree.fit(X_train, y_train)\n",
        "\n",
        "print_error(X_test,y_test, decision_tree)"
      ],
      "execution_count": 21,
      "outputs": [
        {
          "output_type": "stream",
          "text": [
            "Mean Absolute Error: 2609.104849726776\n",
            "Mean Squared Error: 884425468.1594945\n",
            "Root Mean Squared Error: 29739.291655308378\n"
          ],
          "name": "stdout"
        }
      ]
    },
    {
      "cell_type": "code",
      "metadata": {
        "id": "xkkKzpk9D-UM",
        "outputId": "91ba4baf-9ca9-40c0-c18d-0fa6f88ab36e",
        "colab": {
          "base_uri": "https://localhost:8080/",
          "height": 131
        }
      },
      "source": [
        "# Random Forest Regression\n",
        "\n",
        "from sklearn.ensemble import RandomForestRegressor\n",
        "n_estimators = 200\n",
        "max_depth = 25\n",
        "min_samples_split=15\n",
        "min_samples_leaf=2\n",
        "random_forest = RandomForestRegressor(n_estimators = n_estimators, max_depth = max_depth, min_samples_split=min_samples_split)\n",
        "random_forest.fit(X_train,y_train)\n",
        "\n",
        "print_error(X_test,y_test, random_forest)"
      ],
      "execution_count": 22,
      "outputs": [
        {
          "output_type": "stream",
          "text": [
            "/usr/local/lib/python3.6/dist-packages/ipykernel_launcher.py:9: DataConversionWarning: A column-vector y was passed when a 1d array was expected. Please change the shape of y to (n_samples,), for example using ravel().\n",
            "  if __name__ == '__main__':\n"
          ],
          "name": "stderr"
        },
        {
          "output_type": "stream",
          "text": [
            "Mean Absolute Error: 3303.2307366693044\n",
            "Mean Squared Error: 639827044.5903571\n",
            "Root Mean Squared Error: 25294.802718945193\n"
          ],
          "name": "stdout"
        }
      ]
    },
    {
      "cell_type": "code",
      "metadata": {
        "id": "7NDfbA2sD-UV",
        "outputId": "b65b10e2-53fc-4a21-e664-fedc29133142",
        "colab": {
          "base_uri": "https://localhost:8080/",
          "height": 1000
        }
      },
      "source": [
        "# Artificial Neural Network\n",
        "import keras\n",
        "from keras.layers import Dense\n",
        "\n",
        "ann = keras.models.Sequential([\n",
        "                                Dense(6, activation=\"relu\",\n",
        "                                input_shape=X_train.shape[1:]),\n",
        "                                Dense(6,activation=\"relu\"),\n",
        "                                Dense(1)\n",
        "                                ])\n",
        "optimizer=keras.optimizers.Adam()\n",
        "loss=keras.losses.mean_squared_error\n",
        "ann.compile(optimizer=optimizer,loss=loss,metrics=[\"mean_squared_error\"])\n",
        "history=ann.fit(X_train,y_train,epochs=100)\n",
        "\n",
        "print_error(X_test,y_test,ann)"
      ],
      "execution_count": 23,
      "outputs": [
        {
          "output_type": "stream",
          "text": [
            "Epoch 1/100\n",
            "366/366 [==============================] - 0s 908us/step - loss: 767403776.0000 - mean_squared_error: 767403776.0000\n",
            "Epoch 2/100\n",
            "366/366 [==============================] - 0s 852us/step - loss: 767395968.0000 - mean_squared_error: 767395968.0000\n",
            "Epoch 3/100\n",
            "366/366 [==============================] - 0s 904us/step - loss: 767380544.0000 - mean_squared_error: 767380544.0000\n",
            "Epoch 4/100\n",
            "366/366 [==============================] - 0s 846us/step - loss: 767356544.0000 - mean_squared_error: 767356544.0000\n",
            "Epoch 5/100\n",
            "366/366 [==============================] - 0s 815us/step - loss: 767318528.0000 - mean_squared_error: 767318528.0000\n",
            "Epoch 6/100\n",
            "366/366 [==============================] - 0s 885us/step - loss: 767264256.0000 - mean_squared_error: 767264256.0000\n",
            "Epoch 7/100\n",
            "366/366 [==============================] - 0s 844us/step - loss: 767202048.0000 - mean_squared_error: 767202048.0000\n",
            "Epoch 8/100\n",
            "366/366 [==============================] - 0s 813us/step - loss: 767125696.0000 - mean_squared_error: 767125696.0000\n",
            "Epoch 9/100\n",
            "366/366 [==============================] - 0s 914us/step - loss: 767033600.0000 - mean_squared_error: 767033600.0000\n",
            "Epoch 10/100\n",
            "366/366 [==============================] - 0s 857us/step - loss: 766926528.0000 - mean_squared_error: 766926528.0000\n",
            "Epoch 11/100\n",
            "366/366 [==============================] - 0s 875us/step - loss: 766810240.0000 - mean_squared_error: 766810240.0000\n",
            "Epoch 12/100\n",
            "366/366 [==============================] - 0s 879us/step - loss: 766686592.0000 - mean_squared_error: 766686592.0000\n",
            "Epoch 13/100\n",
            "366/366 [==============================] - 0s 887us/step - loss: 766556544.0000 - mean_squared_error: 766556544.0000\n",
            "Epoch 14/100\n",
            "366/366 [==============================] - 0s 884us/step - loss: 766423552.0000 - mean_squared_error: 766423552.0000\n",
            "Epoch 15/100\n",
            "366/366 [==============================] - 0s 883us/step - loss: 766287424.0000 - mean_squared_error: 766287424.0000\n",
            "Epoch 16/100\n",
            "366/366 [==============================] - 0s 889us/step - loss: 766148224.0000 - mean_squared_error: 766148224.0000\n",
            "Epoch 17/100\n",
            "366/366 [==============================] - 0s 884us/step - loss: 766006720.0000 - mean_squared_error: 766006720.0000\n",
            "Epoch 18/100\n",
            "366/366 [==============================] - 0s 910us/step - loss: 765865536.0000 - mean_squared_error: 765865536.0000\n",
            "Epoch 19/100\n",
            "366/366 [==============================] - 0s 895us/step - loss: 765728832.0000 - mean_squared_error: 765728832.0000\n",
            "Epoch 20/100\n",
            "366/366 [==============================] - 0s 897us/step - loss: 765593472.0000 - mean_squared_error: 765593472.0000\n",
            "Epoch 21/100\n",
            "366/366 [==============================] - 0s 896us/step - loss: 765462784.0000 - mean_squared_error: 765462784.0000\n",
            "Epoch 22/100\n",
            "366/366 [==============================] - 0s 916us/step - loss: 765334528.0000 - mean_squared_error: 765334528.0000\n",
            "Epoch 23/100\n",
            "366/366 [==============================] - 0s 858us/step - loss: 765217344.0000 - mean_squared_error: 765217344.0000\n",
            "Epoch 24/100\n",
            "366/366 [==============================] - 0s 863us/step - loss: 765103552.0000 - mean_squared_error: 765103552.0000\n",
            "Epoch 25/100\n",
            "366/366 [==============================] - 0s 919us/step - loss: 764998784.0000 - mean_squared_error: 764998784.0000\n",
            "Epoch 26/100\n",
            "366/366 [==============================] - 0s 868us/step - loss: 764895808.0000 - mean_squared_error: 764895808.0000\n",
            "Epoch 27/100\n",
            "366/366 [==============================] - 0s 877us/step - loss: 764797760.0000 - mean_squared_error: 764797760.0000\n",
            "Epoch 28/100\n",
            "366/366 [==============================] - 0s 928us/step - loss: 764706048.0000 - mean_squared_error: 764706048.0000\n",
            "Epoch 29/100\n",
            "366/366 [==============================] - 0s 912us/step - loss: 764625344.0000 - mean_squared_error: 764625344.0000\n",
            "Epoch 30/100\n",
            "366/366 [==============================] - 0s 881us/step - loss: 764543744.0000 - mean_squared_error: 764543744.0000\n",
            "Epoch 31/100\n",
            "366/366 [==============================] - 0s 906us/step - loss: 764468672.0000 - mean_squared_error: 764468672.0000\n",
            "Epoch 32/100\n",
            "366/366 [==============================] - 0s 914us/step - loss: 764397824.0000 - mean_squared_error: 764397824.0000\n",
            "Epoch 33/100\n",
            "366/366 [==============================] - 0s 891us/step - loss: 764332736.0000 - mean_squared_error: 764332736.0000\n",
            "Epoch 34/100\n",
            "366/366 [==============================] - 0s 1ms/step - loss: 764273088.0000 - mean_squared_error: 764273088.0000\n",
            "Epoch 35/100\n",
            "366/366 [==============================] - 0s 944us/step - loss: 764213440.0000 - mean_squared_error: 764213440.0000\n",
            "Epoch 36/100\n",
            "366/366 [==============================] - 0s 901us/step - loss: 764160960.0000 - mean_squared_error: 764160960.0000\n",
            "Epoch 37/100\n",
            "366/366 [==============================] - 0s 910us/step - loss: 764112768.0000 - mean_squared_error: 764112768.0000\n",
            "Epoch 38/100\n",
            "366/366 [==============================] - 0s 887us/step - loss: 764065856.0000 - mean_squared_error: 764065856.0000\n",
            "Epoch 39/100\n",
            "366/366 [==============================] - 0s 880us/step - loss: 764017408.0000 - mean_squared_error: 764017408.0000\n",
            "Epoch 40/100\n",
            "366/366 [==============================] - 0s 940us/step - loss: 763975360.0000 - mean_squared_error: 763975360.0000\n",
            "Epoch 41/100\n",
            "366/366 [==============================] - 0s 924us/step - loss: 763936128.0000 - mean_squared_error: 763936128.0000\n",
            "Epoch 42/100\n",
            "366/366 [==============================] - 0s 913us/step - loss: 763897024.0000 - mean_squared_error: 763897024.0000\n",
            "Epoch 43/100\n",
            "366/366 [==============================] - 0s 884us/step - loss: 763859968.0000 - mean_squared_error: 763859968.0000\n",
            "Epoch 44/100\n",
            "366/366 [==============================] - 0s 923us/step - loss: 763827968.0000 - mean_squared_error: 763827968.0000\n",
            "Epoch 45/100\n",
            "366/366 [==============================] - 0s 874us/step - loss: 763790016.0000 - mean_squared_error: 763790016.0000\n",
            "Epoch 46/100\n",
            "366/366 [==============================] - 0s 895us/step - loss: 763760256.0000 - mean_squared_error: 763760256.0000\n",
            "Epoch 47/100\n",
            "366/366 [==============================] - 0s 875us/step - loss: 763723008.0000 - mean_squared_error: 763723008.0000\n",
            "Epoch 48/100\n",
            "366/366 [==============================] - 0s 876us/step - loss: 763692480.0000 - mean_squared_error: 763692480.0000\n",
            "Epoch 49/100\n",
            "366/366 [==============================] - 0s 950us/step - loss: 763658176.0000 - mean_squared_error: 763658176.0000\n",
            "Epoch 50/100\n",
            "366/366 [==============================] - 0s 900us/step - loss: 763623680.0000 - mean_squared_error: 763623680.0000\n",
            "Epoch 51/100\n",
            "366/366 [==============================] - 0s 907us/step - loss: 763603456.0000 - mean_squared_error: 763603456.0000\n",
            "Epoch 52/100\n",
            "366/366 [==============================] - 0s 912us/step - loss: 763564224.0000 - mean_squared_error: 763564224.0000\n",
            "Epoch 53/100\n",
            "366/366 [==============================] - 0s 875us/step - loss: 763542016.0000 - mean_squared_error: 763542016.0000\n",
            "Epoch 54/100\n",
            "366/366 [==============================] - 0s 870us/step - loss: 763510208.0000 - mean_squared_error: 763510208.0000\n",
            "Epoch 55/100\n",
            "366/366 [==============================] - 0s 881us/step - loss: 763481536.0000 - mean_squared_error: 763481536.0000\n",
            "Epoch 56/100\n",
            "366/366 [==============================] - 0s 916us/step - loss: 763447680.0000 - mean_squared_error: 763447680.0000\n",
            "Epoch 57/100\n",
            "366/366 [==============================] - 0s 867us/step - loss: 763425024.0000 - mean_squared_error: 763425024.0000\n",
            "Epoch 58/100\n",
            "366/366 [==============================] - 0s 896us/step - loss: 763388480.0000 - mean_squared_error: 763388480.0000\n",
            "Epoch 59/100\n",
            "366/366 [==============================] - 0s 897us/step - loss: 763377280.0000 - mean_squared_error: 763377280.0000\n",
            "Epoch 60/100\n",
            "366/366 [==============================] - 0s 953us/step - loss: 763341184.0000 - mean_squared_error: 763341184.0000\n",
            "Epoch 61/100\n",
            "366/366 [==============================] - 0s 1ms/step - loss: 763309312.0000 - mean_squared_error: 763309312.0000\n",
            "Epoch 62/100\n",
            "366/366 [==============================] - 0s 1ms/step - loss: 763282432.0000 - mean_squared_error: 763282432.0000\n",
            "Epoch 63/100\n",
            "366/366 [==============================] - 0s 1ms/step - loss: 763256320.0000 - mean_squared_error: 763256320.0000\n",
            "Epoch 64/100\n",
            "366/366 [==============================] - 0s 1ms/step - loss: 763232640.0000 - mean_squared_error: 763232640.0000\n",
            "Epoch 65/100\n",
            "366/366 [==============================] - 0s 1ms/step - loss: 763203712.0000 - mean_squared_error: 763203712.0000\n",
            "Epoch 66/100\n",
            "366/366 [==============================] - 0s 1ms/step - loss: 763174144.0000 - mean_squared_error: 763174144.0000\n",
            "Epoch 67/100\n",
            "366/366 [==============================] - 0s 1ms/step - loss: 763148224.0000 - mean_squared_error: 763148224.0000\n",
            "Epoch 68/100\n",
            "366/366 [==============================] - 0s 993us/step - loss: 763118656.0000 - mean_squared_error: 763118656.0000\n",
            "Epoch 69/100\n",
            "366/366 [==============================] - 0s 1ms/step - loss: 763101568.0000 - mean_squared_error: 763101568.0000\n",
            "Epoch 70/100\n",
            "366/366 [==============================] - 0s 1ms/step - loss: 763067520.0000 - mean_squared_error: 763067520.0000\n",
            "Epoch 71/100\n",
            "366/366 [==============================] - 0s 1ms/step - loss: 763046400.0000 - mean_squared_error: 763046400.0000\n",
            "Epoch 72/100\n",
            "366/366 [==============================] - 0s 1ms/step - loss: 763022528.0000 - mean_squared_error: 763022528.0000\n",
            "Epoch 73/100\n",
            "366/366 [==============================] - 0s 1ms/step - loss: 762995264.0000 - mean_squared_error: 762995264.0000\n",
            "Epoch 74/100\n",
            "366/366 [==============================] - 0s 1ms/step - loss: 762972544.0000 - mean_squared_error: 762972544.0000\n",
            "Epoch 75/100\n",
            "366/366 [==============================] - 0s 1ms/step - loss: 762954944.0000 - mean_squared_error: 762954944.0000\n",
            "Epoch 76/100\n",
            "366/366 [==============================] - 0s 1ms/step - loss: 762932032.0000 - mean_squared_error: 762932032.0000\n",
            "Epoch 77/100\n",
            "366/366 [==============================] - 0s 1ms/step - loss: 762901888.0000 - mean_squared_error: 762901888.0000\n",
            "Epoch 78/100\n",
            "366/366 [==============================] - 0s 1ms/step - loss: 762881024.0000 - mean_squared_error: 762881024.0000\n",
            "Epoch 79/100\n",
            "366/366 [==============================] - 0s 1ms/step - loss: 762857216.0000 - mean_squared_error: 762857216.0000\n",
            "Epoch 80/100\n",
            "366/366 [==============================] - 0s 1ms/step - loss: 762833152.0000 - mean_squared_error: 762833152.0000\n",
            "Epoch 81/100\n",
            "366/366 [==============================] - 0s 1ms/step - loss: 762809280.0000 - mean_squared_error: 762809280.0000\n",
            "Epoch 82/100\n",
            "366/366 [==============================] - 0s 1ms/step - loss: 762790400.0000 - mean_squared_error: 762790400.0000\n",
            "Epoch 83/100\n",
            "366/366 [==============================] - 0s 999us/step - loss: 762774976.0000 - mean_squared_error: 762774976.0000\n",
            "Epoch 84/100\n",
            "366/366 [==============================] - 0s 1ms/step - loss: 762752448.0000 - mean_squared_error: 762752448.0000\n",
            "Epoch 85/100\n",
            "366/366 [==============================] - 0s 1ms/step - loss: 762729664.0000 - mean_squared_error: 762729664.0000\n",
            "Epoch 86/100\n",
            "366/366 [==============================] - 0s 998us/step - loss: 762713280.0000 - mean_squared_error: 762713280.0000\n",
            "Epoch 87/100\n",
            "366/366 [==============================] - 0s 987us/step - loss: 762687168.0000 - mean_squared_error: 762687168.0000\n",
            "Epoch 88/100\n",
            "366/366 [==============================] - 0s 859us/step - loss: 762672128.0000 - mean_squared_error: 762672128.0000\n",
            "Epoch 89/100\n",
            "366/366 [==============================] - 0s 932us/step - loss: 762652992.0000 - mean_squared_error: 762652992.0000\n",
            "Epoch 90/100\n",
            "366/366 [==============================] - 0s 889us/step - loss: 762634304.0000 - mean_squared_error: 762634304.0000\n",
            "Epoch 91/100\n",
            "366/366 [==============================] - 0s 961us/step - loss: 762610560.0000 - mean_squared_error: 762610560.0000\n",
            "Epoch 92/100\n",
            "366/366 [==============================] - 0s 962us/step - loss: 762593920.0000 - mean_squared_error: 762593920.0000\n",
            "Epoch 93/100\n",
            "366/366 [==============================] - 0s 948us/step - loss: 762588160.0000 - mean_squared_error: 762588160.0000\n",
            "Epoch 94/100\n",
            "366/366 [==============================] - 0s 965us/step - loss: 762564416.0000 - mean_squared_error: 762564416.0000\n",
            "Epoch 95/100\n",
            "366/366 [==============================] - 0s 972us/step - loss: 762542080.0000 - mean_squared_error: 762542080.0000\n",
            "Epoch 96/100\n",
            "366/366 [==============================] - 0s 997us/step - loss: 762523712.0000 - mean_squared_error: 762523712.0000\n",
            "Epoch 97/100\n",
            "366/366 [==============================] - 0s 956us/step - loss: 762508352.0000 - mean_squared_error: 762508352.0000\n",
            "Epoch 98/100\n",
            "366/366 [==============================] - 0s 1ms/step - loss: 762489664.0000 - mean_squared_error: 762489664.0000\n",
            "Epoch 99/100\n",
            "366/366 [==============================] - 0s 1ms/step - loss: 762474432.0000 - mean_squared_error: 762474432.0000\n",
            "Epoch 100/100\n",
            "366/366 [==============================] - 0s 1ms/step - loss: 762461184.0000 - mean_squared_error: 762461184.0000\n",
            "Mean Absolute Error: 3162.3426112219936\n",
            "Mean Squared Error: 828686052.525927\n",
            "Root Mean Squared Error: 28786.90765827283\n"
          ],
          "name": "stdout"
        }
      ]
    },
    {
      "cell_type": "code",
      "metadata": {
        "id": "T8EB2fG5U0L7",
        "outputId": "9ccdbd54-68be-4dce-b249-bc35eb35297a",
        "colab": {
          "base_uri": "https://localhost:8080/",
          "height": 279
        }
      },
      "source": [
        "ann.summary() #showing summary"
      ],
      "execution_count": 24,
      "outputs": [
        {
          "output_type": "stream",
          "text": [
            "Model: \"sequential\"\n",
            "_________________________________________________________________\n",
            "Layer (type)                 Output Shape              Param #   \n",
            "=================================================================\n",
            "dense (Dense)                (None, 6)                 48        \n",
            "_________________________________________________________________\n",
            "dense_1 (Dense)              (None, 6)                 42        \n",
            "_________________________________________________________________\n",
            "dense_2 (Dense)              (None, 1)                 7         \n",
            "=================================================================\n",
            "Total params: 97\n",
            "Trainable params: 97\n",
            "Non-trainable params: 0\n",
            "_________________________________________________________________\n"
          ],
          "name": "stdout"
        }
      ]
    },
    {
      "cell_type": "markdown",
      "metadata": {
        "id": "8PPbIxaOYNoh"
      },
      "source": [
        "# **Saving model**"
      ]
    },
    {
      "cell_type": "code",
      "metadata": {
        "id": "TAJRm7hPD-Ue"
      },
      "source": [
        "#Saving Scikitlearn models\n",
        "joblib.dump(decision_tree, \"decisiontree_youtubeadview.pkl\")\n",
        "\n",
        "#Saving Keras Artificial Neural Network model\n",
        "ann.save(\"ann_youtubeadview.h5\")"
      ],
      "execution_count": 25,
      "outputs": []
    }
  ]
}